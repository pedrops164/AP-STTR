{
  "nbformat": 4,
  "nbformat_minor": 0,
  "metadata": {
    "colab": {
      "provenance": [],
      "gpuType": "T4"
    },
    "kernelspec": {
      "name": "python3",
      "display_name": "Python 3"
    },
    "language_info": {
      "name": "python"
    },
    "accelerator": "GPU"
  },
  "cells": [
    {
      "cell_type": "code",
      "execution_count": null,
      "metadata": {
        "id": "HaCrhPsRpCJ6"
      },
      "outputs": [],
      "source": [
        "!git clone https://github.com/pedrops164/AP-STTR"
      ]
    },
    {
      "cell_type": "code",
      "source": [
        "cd AP-STTR"
      ],
      "metadata": {
        "id": "IicL4YzapYBg"
      },
      "execution_count": null,
      "outputs": []
    },
    {
      "cell_type": "code",
      "source": [
        "from google.colab import drive\n",
        "drive.mount('/content/gdrive')"
      ],
      "metadata": {
        "id": "45tQfcdop3U0"
      },
      "execution_count": null,
      "outputs": []
    },
    {
      "cell_type": "code",
      "source": [
        "#!pip install unrar\n",
        "#!unrar x ../gdrive/MyDrive/content.rar\n",
        "!unzip ../gdrive/MyDrive/content100.zip\n",
        "!unzip ../gdrive/MyDrive/style100.zip"
      ],
      "metadata": {
        "id": "JcQ0Qy7Kthkx"
      },
      "execution_count": null,
      "outputs": []
    },
    {
      "cell_type": "code",
      "source": [
        "!pip show torch\n",
        "!pip show torchvision"
      ],
      "metadata": {
        "id": "VkGHr0kDp0If"
      },
      "execution_count": null,
      "outputs": []
    },
    {
      "cell_type": "code",
      "source": [
        "!pip uninstall torch -y\n",
        "!pip uninstall torchvision -y"
      ],
      "metadata": {
        "id": "M517I0gHqG6K"
      },
      "execution_count": null,
      "outputs": []
    },
    {
      "cell_type": "code",
      "source": [
        "!python --version"
      ],
      "metadata": {
        "id": "0jt8Hgs_rVDz"
      },
      "execution_count": null,
      "outputs": []
    },
    {
      "cell_type": "code",
      "source": [
        "!sudo apt-get install python3.7"
      ],
      "metadata": {
        "id": "aTlZZrNlrY5l"
      },
      "execution_count": null,
      "outputs": []
    },
    {
      "cell_type": "code",
      "source": [
        "!sudo update-alternatives --install /usr/bin/python3 python3 /usr/bin/python3.7 1"
      ],
      "metadata": {
        "id": "0EltilcysAGE"
      },
      "execution_count": null,
      "outputs": []
    },
    {
      "cell_type": "code",
      "source": [
        "!sudo apt install python3-pip"
      ],
      "metadata": {
        "id": "cD0ynHJxsLyY"
      },
      "execution_count": null,
      "outputs": []
    },
    {
      "cell_type": "code",
      "source": [
        "!sudo apt-get install --reinstall python3.7-distutils"
      ],
      "metadata": {
        "id": "ODkwUIXisoYm"
      },
      "execution_count": null,
      "outputs": []
    },
    {
      "cell_type": "code",
      "source": [
        "!pip install setuptools\n",
        "!pip install pycocotools\n",
        "!pip install pandas\n",
        "!pip install scipy\n",
        "!pip install torch==1.8.0+cu111 torchvision==0.9.0+cu111 -f https://download.pytorch.org/whl/torch_stable.html"
      ],
      "metadata": {
        "id": "OxpfMRGVqc8c"
      },
      "execution_count": null,
      "outputs": []
    },
    {
      "cell_type": "code",
      "source": [
        "!python main_style_transfer.py"
      ],
      "metadata": {
        "id": "tUCHrevIpakf"
      },
      "execution_count": null,
      "outputs": []
    },
    {
      "cell_type": "code",
      "source": [
        "!python demo_sttr_image_ACCV.py"
      ],
      "metadata": {
        "id": "rcanNfQ5fgky"
      },
      "execution_count": null,
      "outputs": []
    },
    {
      "cell_type": "code",
      "source": [
        "rm outputs/* -r"
      ],
      "metadata": {
        "id": "WcwZxW3P9TZN"
      },
      "execution_count": null,
      "outputs": []
    }
  ]
}